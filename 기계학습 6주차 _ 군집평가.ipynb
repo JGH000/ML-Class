{
 "cells": [
  {
   "cell_type": "code",
   "execution_count": 25,
   "metadata": {},
   "outputs": [],
   "source": [
    "# moon 데이터로 평가하기\n",
    "from sklearn.metrics.cluster import adjusted_rand_score\n",
    "from sklearn.datasets import make_moons\n",
    "from sklearn.preprocessing import StandardScaler\n",
    "from sklearn.cluster import KMeans, AgglomerativeClustering, DBSCAN\n",
    "# 200개의 샘플 생성\n",
    "X, y = make_moons(n_samples=200, noise=0.05, random_state = 0)\n",
    "\n",
    "# 스케일 조정\n",
    "scaler = StandardScaler()\n",
    "scaler.fit(X)\n",
    "X_scaled = scaler.transform(X)\n",
    "\n",
    "# 모델 리스트 생성\n",
    "\n",
    "algorithms = [KMeans(n_clusters=2), AgglomerativeClustering(n_clusters=2), DBSCAN()]"
   ]
  },
  {
   "cell_type": "code",
   "execution_count": 26,
   "metadata": {},
   "outputs": [
    {
     "name": "stdout",
     "output_type": "stream",
     "text": [
      "고유한 레이블: [-1]\n"
     ]
    }
   ],
   "source": [
    "# 얼굴 사진으로 군집 수행\n",
    "from sklearn.datasets import fetch_lfw_people\n",
    "import numpy as np\n",
    "\n",
    "people = fetch_lfw_people(min_faces_per_person=20, resize=0.7, color=False)\n",
    "\n",
    "# 특성이 50개\n",
    "idx = np.zeros(people.target.shape, dtype=np.bool)\n",
    "\n",
    "for tg in np.unique(people.target):\n",
    "    idx[np.where(people.target == tg)[0][:50]] = 1\n",
    "\n",
    "# 데이터 분할\n",
    "X_people = people.data[idx]\n",
    "y_people = people.target[idx]\n",
    "\n",
    "# 주성분으로 의미있는 특징 추출 및 차원 축소로 계산 속도 증가\n",
    "from sklearn.decomposition import PCA\n",
    "\n",
    "# Fit the model with X and apply the dimensionality reduction on X\n",
    "pca = PCA(n_components=100, whiten=True, random_state=0)\n",
    "\n",
    "# 기본 매개변수로 DBSCAN 적용. Default : eps = 0.5, min_sample = 5\n",
    "X_pca = pca.fit_transform(X_people)\n",
    "\n",
    "dbscan = DBSCAN()\n",
    "\n",
    "labels = dbscan.fit_predict(X_pca)\n",
    "\n",
    "# 고유한 레이블: [-1] # 모두 잡음 포인트\n",
    "print(\"고유한 레이블: {}\".format(np.unique(labels)))\n",
    "\n",
    "# 고유한 레이블: [-1]\n",
    "dbscan = DBSCAN(min_samples=3)"
   ]
  },
  {
   "cell_type": "code",
   "execution_count": 27,
   "metadata": {},
   "outputs": [
    {
     "name": "stdout",
     "output_type": "stream",
     "text": [
      "k-평균의 클러스터 크기: [280 226 104 268 152 326 203 208 207  89]\n"
     ]
    }
   ],
   "source": [
    "# k-평균으로 클러스터를 추출\n",
    "n_clusters = 10\n",
    "km = KMeans(n_clusters= n_clusters, random_state = 0)\n",
    "\n",
    "labels_km = km.fit_predict(X_pca)\n",
    "print(\"k-평균의 클러스터 크기: {}\".format(np.bincount(labels_km)))"
   ]
  }
 ],
 "metadata": {
  "kernelspec": {
   "display_name": "Python 3",
   "language": "python",
   "name": "python3"
  },
  "language_info": {
   "codemirror_mode": {
    "name": "ipython",
    "version": 3
   },
   "file_extension": ".py",
   "mimetype": "text/x-python",
   "name": "python",
   "nbconvert_exporter": "python",
   "pygments_lexer": "ipython3",
   "version": "3.8.5"
  }
 },
 "nbformat": 4,
 "nbformat_minor": 4
}
