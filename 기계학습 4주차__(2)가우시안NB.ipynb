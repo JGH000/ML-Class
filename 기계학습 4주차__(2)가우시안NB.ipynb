{
 "cells": [
  {
   "cell_type": "code",
   "execution_count": 9,
   "metadata": {
    "scrolled": true
   },
   "outputs": [
    {
     "name": "stdout",
     "output_type": "stream",
     "text": [
      "Accuracy:  1.0\n",
      "Number of mislabeled points out of a total %d points : %d (38, 0)\n"
     ]
    }
   ],
   "source": [
    "from sklearn.naive_bayes import GaussianNB #Gaussian naive Bayes classifier\n",
    "from sklearn.datasets import load_iris\n",
    "from sklearn.model_selection import train_test_split\n",
    "\n",
    "iris_dataset = load_iris()\n",
    "# test_size값은 따로 정하지 않으면 0.25값을 가진다.\n",
    "X_train, X_test, y_train, y_test = train_test_split(iris_dataset['data'], iris_dataset['target'], random_state = 0)\n",
    "classifier = GaussianNB()\n",
    "classifier.fit(X_train, y_train)\n",
    "y_pred = classifier.predict(X_test)\n",
    "\n",
    "nErrors = (y_test != y_pred).sum()\n",
    "accurancy = 1.0 - nErrors / y_test.shape[0]\n",
    "print(\"Accuracy: \", accurancy)\n",
    "print(\"Number of mislabeled points out of a total %d points : %d\", (X_test.shape[0],(y_test != y_pred).sum()))"
   ]
  },
  {
   "cell_type": "code",
   "execution_count": 4,
   "metadata": {},
   "outputs": [
    {
     "name": "stdout",
     "output_type": "stream",
     "text": [
      "Accuracy:  0.9333333333333333\n",
      "Number of mislabeled points out of a total %d points : %d (60, 4)\n"
     ]
    }
   ],
   "source": [
    "iris_dataset = load_iris()\n",
    "# test_size값을 0.40으로 했을 때\n",
    "X_train, X_test, y_train, y_test = train_test_split(iris_dataset['data'], iris_dataset['target'], test_size=0.40, random_state = 0)\n",
    "classifier = GaussianNB()\n",
    "classifier.fit(X_train, y_train)\n",
    "y_pred = classifier.predict(X_test)\n",
    "\n",
    "nErrors = (y_test != y_pred).sum()\n",
    "accurancy = 1.0 - nErrors / y_test.shape[0]\n",
    "print(\"Accuracy: \", accurancy)\n",
    "print(\"Number of mislabeled points out of a total %d points : %d\", (X_test.shape[0],(y_test != y_pred).sum()))"
   ]
  },
  {
   "cell_type": "code",
   "execution_count": 5,
   "metadata": {},
   "outputs": [
    {
     "name": "stdout",
     "output_type": "stream",
     "text": [
      "Accuracy:  1.0\n",
      "Number of mislabeled points out of a total %d points : %d (45, 0)\n"
     ]
    }
   ],
   "source": [
    "iris_dataset = load_iris()\n",
    "# test_size값을 0.30으로 했을 때\n",
    "X_train, X_test, y_train, y_test = train_test_split(iris_dataset['data'], iris_dataset['target'], test_size=0.30, random_state = 0)\n",
    "classifier = GaussianNB()\n",
    "classifier.fit(X_train, y_train)\n",
    "y_pred = classifier.predict(X_test)\n",
    "\n",
    "nErrors = (y_test != y_pred).sum()\n",
    "accurancy = 1.0 - nErrors / y_test.shape[0]\n",
    "print(\"Accuracy: \", accurancy)\n",
    "print(\"Number of mislabeled points out of a total %d points : %d\", (X_test.shape[0],(y_test != y_pred).sum()))"
   ]
  },
  {
   "cell_type": "code",
   "execution_count": 6,
   "metadata": {},
   "outputs": [
    {
     "name": "stdout",
     "output_type": "stream",
     "text": [
      "Accuracy:  0.96\n",
      "Number of mislabeled points out of a total %d points : %d (50, 2)\n"
     ]
    }
   ],
   "source": [
    "iris_dataset = load_iris()\n",
    "# test_size값을 0.33으로 했을 때\n",
    "X_train, X_test, y_train, y_test = train_test_split(iris_dataset['data'], iris_dataset['target'], test_size=0.33, random_state = 0)\n",
    "classifier = GaussianNB()\n",
    "classifier.fit(X_train, y_train)\n",
    "y_pred = classifier.predict(X_test)\n",
    "\n",
    "nErrors = (y_test != y_pred).sum()\n",
    "accurancy = 1.0 - nErrors / y_test.shape[0]\n",
    "print(\"Accuracy: \", accurancy)\n",
    "print(\"Number of mislabeled points out of a total %d points : %d\", (X_test.shape[0],(y_test != y_pred).sum()))"
   ]
  },
  {
   "cell_type": "code",
   "execution_count": 14,
   "metadata": {
    "scrolled": false
   },
   "outputs": [
    {
     "name": "stdout",
     "output_type": "stream",
     "text": [
      "훈련 세트 점수: 0.946\n",
      "테스트 세트 점수: 0.937\n"
     ]
    }
   ],
   "source": [
    "#Cancer data\n",
    "\n",
    "from sklearn.datasets import load_breast_cancer\n",
    "cancer = load_breast_cancer()\n",
    "# test_size값은 따로 정하지 않으면 0.25값을 가진다.\n",
    "X_train, X_test, y_train, y_test = train_test_split(cancer.data, cancer.target, stratify=cancer.target, random_state=42)\n",
    "classifierGN = GaussianNB().fit(X_train, y_train)\n",
    "print(\"훈련 세트 점수: {:.3f}\".format(classifierGN.score(X_train, y_train)))\n",
    "print(\"테스트 세트 점수: {:.3f}\".format(classifierGN.score(X_test, y_test)))"
   ]
  },
  {
   "cell_type": "code",
   "execution_count": 20,
   "metadata": {},
   "outputs": [
    {
     "name": "stdout",
     "output_type": "stream",
     "text": [
      "훈련 세트 점수: 0.955\n",
      "테스트 세트 점수: 0.958\n"
     ]
    },
    {
     "name": "stderr",
     "output_type": "stream",
     "text": [
      "C:\\Users\\NoteBook\\anaconda3\\lib\\site-packages\\sklearn\\linear_model\\_logistic.py:762: ConvergenceWarning: lbfgs failed to converge (status=1):\n",
      "STOP: TOTAL NO. of ITERATIONS REACHED LIMIT.\n",
      "\n",
      "Increase the number of iterations (max_iter) or scale the data as shown in:\n",
      "    https://scikit-learn.org/stable/modules/preprocessing.html\n",
      "Please also refer to the documentation for alternative solver options:\n",
      "    https://scikit-learn.org/stable/modules/linear_model.html#logistic-regression\n",
      "  n_iter_i = _check_optimize_result(\n"
     ]
    }
   ],
   "source": [
    "#Cancer data\n",
    "\n",
    "from sklearn.datasets import load_breast_cancer\n",
    "cancer = load_breast_cancer()\n",
    "# test_size값은 따로 정하지 않으면 0.25값을 가진다.\n",
    "X_train, X_test, y_train, y_test = train_test_split(cancer.data, cancer.target, stratify=cancer.target, random_state=42)\n",
    "# GaussianNB()대신 LogisticRegression()을 쓴 경우\n",
    "# 이걸 썼을 때 훈련 세트 점수와 테스트 세트 점수가 더 잘 나오는 것을 확인 할 수 있다.\n",
    "classifierGN = LogisticRegression().fit(X_train, y_train)\n",
    "print(\"훈련 세트 점수: {:.3f}\".format(classifierGN.score(X_train, y_train)))\n",
    "print(\"테스트 세트 점수: {:.3f}\".format(classifierGN.score(X_test, y_test)))"
   ]
  }
 ],
 "metadata": {
  "kernelspec": {
   "display_name": "Python 3",
   "language": "python",
   "name": "python3"
  },
  "language_info": {
   "codemirror_mode": {
    "name": "ipython",
    "version": 3
   },
   "file_extension": ".py",
   "mimetype": "text/x-python",
   "name": "python",
   "nbconvert_exporter": "python",
   "pygments_lexer": "ipython3",
   "version": "3.8.5"
  }
 },
 "nbformat": 4,
 "nbformat_minor": 4
}
