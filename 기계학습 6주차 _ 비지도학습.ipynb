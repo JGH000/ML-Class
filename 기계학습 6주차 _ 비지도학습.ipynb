{
 "cells": [
  {
   "cell_type": "code",
   "execution_count": 8,
   "metadata": {},
   "outputs": [
    {
     "name": "stdout",
     "output_type": "stream",
     "text": [
      "원본 데이터 형태: (569, 30)\n",
      "축소된 데이터 형태: (569, 2)\n"
     ]
    }
   ],
   "source": [
    "from sklearn.datasets import load_breast_cancer\n",
    "from sklearn.preprocessing import StandardScaler\n",
    "cancer = load_breast_cancer()\n",
    "scaler = StandardScaler()\n",
    "scaler.fit(cancer.data)\n",
    "X_scaled = scaler.transform(cancer.data)\n",
    "\n",
    "from sklearn.decomposition import PCA\n",
    "# 데이터의 처음 두 개 주성분만 유지시킨다.\n",
    "pca = PCA(n_components = 2)\n",
    "# cancer 데이터로 PCA 모델을 구축\n",
    "pca.fit(X_scaled)\n",
    "# 처음 두 개의 주성분을 사용해 데이터 변환\n",
    "X_pca = pca.transform(X_scaled)\n",
    "print(\"원본 데이터 형태: {}\".format(str(X_scaled.shape)))\n",
    "print(\"축소된 데이터 형태: {}\".format(str(X_pca.shape)))"
   ]
  },
  {
   "cell_type": "code",
   "execution_count": 16,
   "metadata": {},
   "outputs": [
    {
     "name": "stdout",
     "output_type": "stream",
     "text": [
      "1-최근접 이웃의 테스트 세트 점수: 0.23\n"
     ]
    }
   ],
   "source": [
    "from sklearn.neighbors import KNeighborsClassifier\n",
    "from sklearn.datasets import fetch_lfw_people\n",
    "from sklearn.model_selection import train_test_split\n",
    "import numpy as np\n",
    "\n",
    "people = fetch_lfw_people(min_faces_per_person=20, resize=0.7, color=False)\n",
    "\n",
    "# 특성이 50개\n",
    "idx = np.zeros(people.target.shape, dtype=np.bool)\n",
    "\n",
    "for tg in np.unique(people.target):\n",
    "    idx[np.where(people.target == tg)[0][:50]] = 1\n",
    "\n",
    "# 데이터 분할\n",
    "X_people = people.data[idx]\n",
    "y_people = people.target[idx]\n",
    "\n",
    "# 데이터를 훈련 세트와 테스트 세트로 나눔\n",
    "X_train, X_test, y_train, y_test = train_test_split(X_people, y_people, stratify=y_people, random_state=0)\n",
    "# 이웃 개수를 한 개로 하여 KNeighborsClassifier 모델구축\n",
    "knn = KNeighborsClassifier(n_neighbors=1)\n",
    "knn.fit(X_train, y_train)\n",
    "print(\"1-최근접 이웃의 테스트 세트 점수: {:.2f}\".format(knn.score(X_test, y_test)))\n",
    "# 원본 픽셀에서 거리 계산은 픽셀이 조금만 움직여도 달라진다."
   ]
  },
  {
   "cell_type": "code",
   "execution_count": 34,
   "metadata": {},
   "outputs": [
    {
     "name": "stdout",
     "output_type": "stream",
     "text": [
      "X_train_pca_shape: (1547, 100)\n",
      "X_test_pca_shape: (516, 100)\n",
      "테스트 세트 정확도: 0.31\n"
     ]
    }
   ],
   "source": [
    "pca = PCA(n_components=100, whiten=True, random_state=0).fit(X_train)\n",
    "X_train_pca = pca.transform(X_train)\n",
    "X_test_pca = pca.transform(X_test)\n",
    "print(\"X_train_pca_shape: {}\".format(X_train_pca.shape))\n",
    "print(\"X_test_pca_shape: {}\".format(X_test_pca.shape))\n",
    "knn = KNeighborsClassifier(n_neighbors=1)\n",
    "knn.fit(X_train_pca, y_train)\n",
    "print(\"테스트 세트 정확도: {:.2f}\".format(knn.score(X_test_pca,y_test)))"
   ]
  },
  {
   "cell_type": "code",
   "execution_count": 32,
   "metadata": {},
   "outputs": [
    {
     "name": "stdout",
     "output_type": "stream",
     "text": [
      "X_train_pca_shape: (1547, 100)\n",
      "X_test_pca_shape: (516, 100)\n",
      "테스트 세트 정확도: 0.24\n"
     ]
    }
   ],
   "source": [
    "# whiten=True가 없을 때\n",
    "pca = PCA(n_components=100, random_state=0).fit(X_train)\n",
    "X_train_pca = pca.transform(X_train)\n",
    "X_test_pca = pca.transform(X_test)\n",
    "print(\"X_train_pca_shape: {}\".format(X_train_pca.shape))\n",
    "print(\"X_test_pca_shape: {}\".format(X_test_pca.shape))\n",
    "knn = KNeighborsClassifier(n_neighbors=1)\n",
    "knn.fit(X_train_pca, y_train)\n",
    "print(\"테스트 세트 정확도: {:.2f}\".format(knn.score(X_test_pca,y_test)))"
   ]
  }
 ],
 "metadata": {
  "kernelspec": {
   "display_name": "Python 3",
   "language": "python",
   "name": "python3"
  },
  "language_info": {
   "codemirror_mode": {
    "name": "ipython",
    "version": 3
   },
   "file_extension": ".py",
   "mimetype": "text/x-python",
   "name": "python",
   "nbconvert_exporter": "python",
   "pygments_lexer": "ipython3",
   "version": "3.8.5"
  }
 },
 "nbformat": 4,
 "nbformat_minor": 4
}
