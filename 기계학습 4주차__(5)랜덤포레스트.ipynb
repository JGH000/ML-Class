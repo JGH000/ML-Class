{
 "cells": [
  {
   "cell_type": "code",
   "execution_count": 2,
   "metadata": {},
   "outputs": [
    {
     "data": {
      "text/plain": [
       "RandomForestClassifier(n_estimators=5, random_state=2)"
      ]
     },
     "execution_count": 2,
     "metadata": {},
     "output_type": "execute_result"
    }
   ],
   "source": [
    "from sklearn.ensemble import RandomForestClassifier\n",
    "from sklearn.datasets import make_moons\n",
    "from sklearn.model_selection import train_test_split\n",
    "\n",
    "X, y = make_moons(n_samples=100, noise=0.25, random_state=3)\n",
    "X_train, X_test, y_train, y_test = train_test_split(X, y, stratify=y, random_state=42)\n",
    "\n",
    "forest = RandomForestClassifier(n_estimators=5, random_state=2)\n",
    "forest.fit(X_train, y_train)"
   ]
  },
  {
   "cell_type": "code",
   "execution_count": 5,
   "metadata": {
    "scrolled": true
   },
   "outputs": [
    {
     "name": "stdout",
     "output_type": "stream",
     "text": [
      "테스트 세트 정확도: 0.920\n",
      "\n",
      "테스트 세트 정확도 CV = 5: 0.860\n",
      "\n",
      "테스트 세트 정확도 CV = 5: 0.840\n",
      "\n"
     ]
    }
   ],
   "source": [
    "from sklearn.model_selection import cross_val_score\n",
    "\n",
    "forest = RandomForestClassifier(n_estimators=5, random_state=2)\n",
    "forest.fit(X_train, y_train)\n",
    "print(\"테스트 세트 정확도: {:.3f}\\n\".format(forest.score(X_test, y_test)))\n",
    "\n",
    "cvscores = cross_val_score(forest, X, y, cv=5)\n",
    "print(\"테스트 세트 정확도 CV = 5: {:.3f}\\n\".format(cvscores.mean()))\n",
    "\n",
    "cvscores = cross_val_score(forest, X, y, cv=10)\n",
    "print(\"테스트 세트 정확도 CV = 5: {:.3f}\\n\".format(cvscores.mean()))"
   ]
  },
  {
   "cell_type": "code",
   "execution_count": 8,
   "metadata": {},
   "outputs": [
    {
     "name": "stdout",
     "output_type": "stream",
     "text": [
      "테스트 세트 정확도: 0.880\n",
      "\n",
      "테스트 세트 정확도 CV = 5: 0.860\n",
      "\n",
      "테스트 세트 정확도 CV = 5: 0.840\n",
      "\n"
     ]
    }
   ],
   "source": [
    "from sklearn.model_selection import cross_val_score\n",
    "from sklearn.tree import DecisionTreeClassifier\n",
    "\n",
    "X, y = make_moons(n_samples=100, noise=0.25, random_state=3)\n",
    "X_train, X_test, y_train, y_test = train_test_split(X, y, stratify=y, random_state=42)\n",
    "dt = DecisionTreeClassifier(max_depth=None, min_samples_split=2, random_state=0)\n",
    "dt.fit(X_train, y_train)\n",
    "print(\"테스트 세트 정확도: {:.3f}\\n\".format(dt.score(X_test, y_test)))\n",
    "\n",
    "cvscores = cross_val_score(forest, X, y, cv=5)\n",
    "print(\"테스트 세트 정확도 CV = 5: {:.3f}\\n\".format(cvscores.mean()))\n",
    "\n",
    "cvscores = cross_val_score(forest, X, y, cv=10)\n",
    "print(\"테스트 세트 정확도 CV = 5: {:.3f}\\n\".format(cvscores.mean()))"
   ]
  },
  {
   "cell_type": "code",
   "execution_count": 20,
   "metadata": {},
   "outputs": [
    {
     "name": "stdout",
     "output_type": "stream",
     "text": [
      "훈련 세트 정확도: 1.000\n",
      "테스트 세트 정확도: 0.972\n",
      "테스트 세트 정확도 CV = 10: 0.910\n",
      "\n",
      "[1.  1.  0.8 0.9 1.  1.  0.7 1.  0.9 0.8]\n"
     ]
    },
    {
     "data": {
      "image/png": "[encoded data removed]",
      "text/plain": [
       "<Figure size 432x288 with 1 Axes>"
      ]
     },
     "metadata": {
      "needs_background": "light"
     },
     "output_type": "display_data"
    }
   ],
   "source": [
    "from matplotlib import font_manager, rc\n",
    "from sklearn.datasets import load_breast_cancer\n",
    "import mglearn\n",
    "import matplotlib.pyplot as plt\n",
    "import numpy as np\n",
    "\n",
    "cancer = load_breast_cancer()\n",
    "\n",
    "font_name = font_manager.FontProperties(fname=\"c:/Windows/Fonts/malgun.ttf\").get_name()\n",
    "rc('font', family=font_name)\n",
    "\n",
    "X_train, X_test, y_train, y_test = train_test_split(cancer.data, cancer.target, random_state=0)\n",
    "forest = RandomForestClassifier(n_estimators=100, random_state=0)\n",
    "forest.fit(X_train, y_train)\n",
    "\n",
    "print(\"훈련 세트 정확도: {:.3f}\".format(forest.score(X_train, y_train)))\n",
    "print(\"테스트 세트 정확도: {:.3f}\".format(forest.score(X_test, y_test)))\n",
    "\n",
    "cvscores = cross_val_score(forest, X, y, cv=10)\n",
    "print(\"테스트 세트 정확도 CV = 10: {:.3f}\\n\".format(cvscores.mean()))\n",
    "print(cvscores)\n",
    "\n",
    "# 선형모델이나 단일 결정트리보다 높은 성능\n",
    "# 단일 결정트리처럼 max-features 매개변수 조정, 사전가지치기 가능\n",
    "# 기본 설정으로 좋은 성능\n",
    "def plot_feature_importances_cancer(model):\n",
    "    n_features = cancer.data.shape[1]\n",
    "    plt.barh(range(n_features), model.feature_importances_, align='center')\n",
    "    plt.yticks(np.arange(n_features), cancer.feature_names)\n",
    "    plt.xlabel(\"특성\")\n",
    "    plt.ylabel(\"특성 중요도\")\n",
    "    plt.ylim(-1, n_features)\n",
    "\n",
    "plot_feature_importances_cancer(forest)"
   ]
  }
 ],
 "metadata": {
  "kernelspec": {
   "display_name": "Python 3",
   "language": "python",
   "name": "python3"
  },
  "language_info": {
   "codemirror_mode": {
    "name": "ipython",
    "version": 3
   },
   "file_extension": ".py",
   "mimetype": "text/x-python",
   "name": "python",
   "nbconvert_exporter": "python",
   "pygments_lexer": "ipython3",
   "version": "3.8.5"
  }
 },
 "nbformat": 4,
 "nbformat_minor": 4
}
