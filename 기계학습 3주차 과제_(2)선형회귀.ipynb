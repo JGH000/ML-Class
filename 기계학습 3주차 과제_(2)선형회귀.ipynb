{
 "cells": [
  {
   "cell_type": "code",
   "execution_count": 1,
   "metadata": {
    "scrolled": true
   },
   "outputs": [
    {
     "name": "stdout",
     "output_type": "stream",
     "text": [
      "훈련 세트 점수: 0.67\n",
      "테스트 세트 점수: 0.66\n",
      "\n",
      "lr.coef_: [0.394]\n",
      "lr.intercept_ -0.031804343026759746\n"
     ]
    }
   ],
   "source": [
    "from preamble import *\n",
    "import pandas as pd\n",
    "import numpy as np\n",
    "import matplotlib\n",
    "import matplotlib.pyplot as plt\n",
    "import mglearn\n",
    "%matplotlib inline\n",
    "#필요한 라이브러리들을 임포트한다.\n",
    "\n",
    "from matplotlib import font_manager, rc\n",
    "font_name = font_manager.FontProperties(fname=\"c:/Windows/Fonts/malgun.ttf\").get_name()\n",
    "rc('font', family=font_name)\n",
    "#한글 출력시 오류가 날 때 추가하는 코드\n",
    "\n",
    "from sklearn.neighbors import KNeighborsRegressor\n",
    "# KNeighborRegressor를 임포트한다.\n",
    "\n",
    "from sklearn.model_selection import train_test_split\n",
    "# train_test_split를 임포트한다.\n",
    "\n",
    "from sklearn.linear_model import LinearRegression\n",
    "#LinearRegression를 임포트한다.\n",
    "\n",
    "X, y = mglearn.datasets.make_wave(n_samples=60)\n",
    "#make_wave에 60개 생성\n",
    "\n",
    "X_train, X_test, y_train, y_test = train_test_split(X, y, random_state=42)\n",
    "#train하고 test를 split한다.\n",
    "\n",
    "lr = LinearRegression().fit(X_train, y_train)\n",
    "#위에서 얻은 값을 fit()에 넣어서 학습시킨다.\n",
    "\n",
    "print(\"훈련 세트 점수: {:.2f}\".format(lr.score(X_train, y_train)))\n",
    "print(\"테스트 세트 점수: {:.2f}\\n\".format(lr.score(X_test, y_test)))\n",
    "\n",
    "print(\"lr.coef_:\", lr.coef_)\n",
    "#기울기를 출력시킨다.\n",
    "\n",
    "print(\"lr.intercept_\", lr.intercept_)\n",
    "#절편을 출력시킨다."
   ]
  },
  {
   "cell_type": "code",
   "execution_count": 2,
   "metadata": {
    "scrolled": true
   },
   "outputs": [
    {
     "name": "stdout",
     "output_type": "stream",
     "text": [
      "훈련 세트 점수: 0.65\n",
      "테스트 세트 점수: 0.77\n",
      "\n",
      "lr.coef_: [0.48]\n",
      "lr.intercept_ -0.09847983994403892\n"
     ]
    }
   ],
   "source": [
    "X, y = mglearn.datasets.make_wave(n_samples=40)\n",
    "#위와 똑같은 과정을 실시하는데 대신 n_samples=ㅁ에서 ㅁ에 40을 넣는다.\n",
    "\n",
    "X_train, X_test, y_train, y_test = train_test_split(X, y, random_state=42)\n",
    "\n",
    "lr = LinearRegression().fit(X_train, y_train)\n",
    "\n",
    "print(\"훈련 세트 점수: {:.2f}\".format(lr.score(X_train, y_train)))\n",
    "print(\"테스트 세트 점수: {:.2f}\\n\".format(lr.score(X_test, y_test)))\n",
    "\n",
    "print(\"lr.coef_:\", lr.coef_)\n",
    "\n",
    "print(\"lr.intercept_\", lr.intercept_)"
   ]
  },
  {
   "cell_type": "code",
   "execution_count": 3,
   "metadata": {},
   "outputs": [
    {
     "name": "stdout",
     "output_type": "stream",
     "text": [
      "훈련 세트 점수: 0.59\n",
      "테스트 세트 점수: 0.66\n",
      "\n",
      "lr.coef_: [0.404]\n",
      "lr.intercept_ -0.022568028173365326\n"
     ]
    }
   ],
   "source": [
    "X, y = mglearn.datasets.make_wave(n_samples=100)\n",
    "#위와 똑같은 과정을 실시하는데 대신 n_samples=ㅁ에서 ㅁ에 40을 넣는다.\n",
    "\n",
    "X_train, X_test, y_train, y_test = train_test_split(X, y, random_state=42)\n",
    "\n",
    "lr = LinearRegression().fit(X_train, y_train)\n",
    "\n",
    "print(\"훈련 세트 점수: {:.2f}\".format(lr.score(X_train, y_train)))\n",
    "print(\"테스트 세트 점수: {:.2f}\\n\".format(lr.score(X_test, y_test)))\n",
    "\n",
    "print(\"lr.coef_:\", lr.coef_)\n",
    "\n",
    "print(\"lr.intercept_\", lr.intercept_)"
   ]
  },
  {
   "cell_type": "code",
   "execution_count": 4,
   "metadata": {
    "scrolled": true
   },
   "outputs": [
    {
     "name": "stdout",
     "output_type": "stream",
     "text": [
      "훈련 세트 점수: 0.68\n",
      "테스트 세트 점수: 0.57\n",
      "\n",
      "lr.coef_: [0.482]\n",
      "lr.intercept_ 0.041547084989570764\n"
     ]
    }
   ],
   "source": [
    "X, y = mglearn.datasets.make_wave(n_samples=500)\n",
    "#위와 똑같은 과정을 실시하는데 대신 n_samples=ㅁ에서 ㅁ에 40을 넣는다.\n",
    "\n",
    "X_train, X_test, y_train, y_test = train_test_split(X, y, random_state=42)\n",
    "\n",
    "lr = LinearRegression().fit(X_train, y_train)\n",
    "\n",
    "print(\"훈련 세트 점수: {:.2f}\".format(lr.score(X_train, y_train)))\n",
    "print(\"테스트 세트 점수: {:.2f}\\n\".format(lr.score(X_test, y_test)))\n",
    "\n",
    "print(\"lr.coef_:\", lr.coef_)\n",
    "\n",
    "print(\"lr.intercept_\", lr.intercept_)\n",
    "\n",
    "#샘플 수가 많아질수록 선 하나로 표현하기에 부족해서 테스트세트 점수가 떨어지는것을 확인할 수 있다.\n",
    "#또, 기울기와 절편도 달라지는 것을 볼 수 있다."
   ]
  },
  {
   "cell_type": "code",
   "execution_count": 6,
   "metadata": {
    "scrolled": true
   },
   "outputs": [
    {
     "name": "stdout",
     "output_type": "stream",
     "text": [
      "boston.keys() :dict_keys(['data', 'target', 'feature_names', 'DESCR', 'filename'])\n",
      "\n",
      "Data의 크기: (506, 13)\n",
      "\n",
      "특성 이름:\n",
      "['CRIM' 'ZN' 'INDUS' 'CHAS' 'NOX' 'RM' 'AGE' 'DIS' 'RAD' 'TAX' 'PTRATIO'\n",
      " 'B' 'LSTAT']\n",
      "\n",
      ".. _boston_dataset:\n",
      "\n",
      "Boston house prices dataset\n",
      "---------------------------\n",
      "\n",
      "**Data Set Characteristics:**  \n",
      "\n",
      "    :Number of Instances: 506 \n",
      "\n",
      "    :Number of Attributes: 13 numeric/categorical predictive. Median Value (attribute 14) is usually the target.\n",
      "\n",
      "    :Attribute Information (in order):\n",
      "        - CRIM     per capita crime rate by town\n",
      "        - ZN       proportion of residential land zoned for lots over 25,000 sq.ft.\n",
      "        - INDUS    proportion of non-retail business acres per town\n",
      "        - CHAS     Charles River dummy variable (= 1 if tract bounds river; 0 otherwise)\n",
      "        - NOX      nitric oxides concentration (parts per 10 million)\n",
      "        - RM       average number of rooms per dwelling\n",
      "        - AGE      proportion of owner-occupied units built prior to 1940\n",
      "        - DIS      weighted distances to five Boston employment centres\n",
      "        - RAD      index of accessibility to radial highways\n",
      "        - TAX      full-value property-tax rate per $10,000\n",
      "        - PTRATIO  pupil-teacher ratio by town\n",
      "        - B        1000(Bk - 0.63)^2 where Bk is the proportion of blacks by town\n",
      "        - LSTAT    % lower status of the population\n",
      "        - MEDV     Median value of owner-occupied homes in $1000's\n",
      "\n",
      "    :Missing Attribute Values: None\n",
      "\n",
      "    :Creator: Harrison, D. and Rubinfeld, D.L.\n",
      "\n",
      "This is a copy of UCI ML housing dataset.\n",
      "https://archive.ics.uci.edu/ml/machine-learning-databases/housing/\n",
      "\n",
      "\n",
      "This dataset was taken from the StatLib library which is maintained at Carnegie Mellon University.\n",
      "\n",
      "The Boston house-price data of Harrison, D. and Rubinfeld, D.L. 'Hedonic\n",
      "prices and the demand for clean air', J. Environ. Economics & Management,\n",
      "vol.5, 81-102, 1978.   Used in Belsley, Kuh & Welsch, 'Regression diagnostics\n",
      "...', Wiley, 1980.   N.B. Various transformations are used in the table on\n",
      "pages 244-261 of the latter.\n",
      "\n",
      "The Boston house-price data has been used in many machine learning papers that address regression\n",
      "problems.   \n",
      "     \n",
      ".. topic:: References\n",
      "\n",
      "   - Belsley, Kuh & Welsch, 'Regression diagnostics: Identifying Influential Data and Sources of Collinearity', Wiley, 1980. 244-261.\n",
      "   - Quinlan,R. (1993). Combining Instance-Based and Model-Based Learning. In Proceedings on the Tenth International Conference of Machine Learning, 236-243, University of Massachusetts, Amherst. Morgan Kaufmann.\n",
      "\n",
      "...\n",
      "       CRIM    ZN  INDUS  CHAS  ...    TAX  PTRATIO       B  LSTAT\n",
      "0  6.32e-03  18.0   2.31   0.0  ...  296.0     15.3  396.90   4.98\n",
      "1  2.73e-02   0.0   7.07   0.0  ...  242.0     17.8  396.90   9.14\n",
      "2  2.73e-02   0.0   7.07   0.0  ...  242.0     17.8  392.83   4.03\n",
      "3  3.24e-02   0.0   2.18   0.0  ...  222.0     18.7  394.63   2.94\n",
      "4  6.91e-02   0.0   2.18   0.0  ...  222.0     18.7  396.90   5.33\n",
      "\n",
      "[5 rows x 13 columns]\n"
     ]
    }
   ],
   "source": [
    "from sklearn.datasets import load_boston\n",
    "#데이터를 임포트한다.\n",
    "\n",
    "boston = load_boston()\n",
    "#boston에 임포트한 데이터를 넣는다.\n",
    "\n",
    "print(\"boston.keys() :{}\\n\".format(boston.keys()))\n",
    "print(\"Data의 크기: {}\\n\".format(boston['data'].shape))\n",
    "print(\"특성 이름:\\n{}\\n\".format(boston.feature_names))\n",
    "print(boston['DESCR'] + \"\\n...\")\n",
    "      \n",
    "df = pd.DataFrame(boston.data, columns=boston.feature_names)\n",
    "print(df.head())\n",
    "#데이터 구성을 확인하기 위에 위와 같은 코드들을 출력시킨다."
   ]
  },
  {
   "cell_type": "code",
   "execution_count": 12,
   "metadata": {},
   "outputs": [
    {
     "data": {
      "text/plain": [
       "<matplotlib.collections.PathCollection at 0x28e2fc612b0>"
      ]
     },
     "execution_count": 12,
     "metadata": {},
     "output_type": "execute_result"
    },
    {
     "data": {
      "application/pdf": "[encoded data removed]",
      "image/png": "[encoded data removed]",
      "text/plain": [
       "<Figure size 432x288 with 1 Axes>"
      ]
     },
     "metadata": {
      "needs_background": "light"
     },
     "output_type": "display_data"
    }
   ],
   "source": [
    "import matplotlib.pyplot as plt\n",
    "plt.scatter(boston.data[:, 5], boston.target, color='r', s=10)\n",
    "#방의 개수와 주택가격에 따른 산점도를 그리게 만든다.\n",
    "#확인결과 대체로 방의 개수가 증가함에 따라 주택가격이 증가함을 볼 수 있다."
   ]
  },
  {
   "cell_type": "code",
   "execution_count": 14,
   "metadata": {},
   "outputs": [
    {
     "name": "stdout",
     "output_type": "stream",
     "text": [
      "(506,)\n",
      "(506, 1)\n",
      "w[0]: 9.102109 b: -34.670621\n"
     ]
    },
    {
     "data": {
      "text/plain": [
       "[<matplotlib.lines.Line2D at 0x28e2fd9e340>]"
      ]
     },
     "execution_count": 14,
     "metadata": {},
     "output_type": "execute_result"
    },
    {
     "data": {
      "application/pdf": "[encoded data removed]",
      "image/png": "[encoded data removed]",
      "text/plain": [
       "<Figure size 432x288 with 1 Axes>"
      ]
     },
     "metadata": {
      "needs_background": "light"
     },
     "output_type": "display_data"
    }
   ],
   "source": [
    "#속성(특징)하나로 선형회귀 실험\n",
    "\n",
    "X = boston.data[:, 5]\n",
    "\n",
    "print(X.shape)\n",
    "\n",
    "# LinearRegression의 함수에 인자로 전달하기 위해서는\n",
    "# 각 원소의 값이 담긴 2차원 배열을 (n,1의 형태로 만들어야 할)\n",
    "# atleast_2d 함수는 x 데이터를 2차원 배열을 (1,n) 형태로 만들어준다.\n",
    "\n",
    "X_1 = np.atleast_2d(X)\n",
    "X_2 = np.transpose(X_1)\n",
    "print(X_2.shape)\n",
    "y = boston.target\n",
    "\n",
    "lr.fit(X_2, y)\n",
    "\n",
    "y_predicted = lr.predict(X_2)\n",
    "\n",
    "print(\"w[0]: %f b: %f\" % (lr.coef_[0], lr.intercept_))\n",
    "\n",
    "plt.plot(X_2, y_predicted)\n",
    "plt.plot(X_2, y, 'o', color='r', markersize=3)\n",
    "#밑의 파란선은 산점도를 표현해주는 선이다."
   ]
  },
  {
   "cell_type": "code",
   "execution_count": 64,
   "metadata": {
    "scrolled": true
   },
   "outputs": [
    {
     "name": "stdout",
     "output_type": "stream",
     "text": [
      "X_train.shape: (379, 13) X_test.shape:(127, 13)\n",
      "훈련 세트 점수: 0.77\n",
      "테스트 세트 점수: 0.64\n"
     ]
    }
   ],
   "source": [
    "X_train, X_test, y_train, y_test = train_test_split(boston.data, boston.target, random_state=0)\n",
    "print(\"X_train.shape: {}\".format(X_train.shape), \"X_test.shape:{}\".format(X_test.shape))\n",
    "lr = LinearRegression().fit(X_train, y_train)\n",
    "print(\"훈련 세트 점수: {:.2f}\".format(lr.score(X_train, y_train)))\n",
    "print(\"테스트 세트 점수: {:.2f}\".format(lr.score(X_test, y_test)))\n",
    "#위에서 구한 값을 train과 test로 나누어 선형모델로 그린 결과를 출력한다."
   ]
  },
  {
   "cell_type": "code",
   "execution_count": 65,
   "metadata": {},
   "outputs": [
    {
     "name": "stdout",
     "output_type": "stream",
     "text": [
      "X_train.shape: (379, 13) X_test.shape:(127, 13)\n",
      "훈련 세트 점수: 0.71\n",
      "테스트 세트 점수: 0.46\n",
      "\n",
      "X_train.shape: (379, 13) X_test.shape:(127, 13)\n",
      "훈련 세트 점수: 0.78\n",
      "테스트 세트 점수: 0.51\n"
     ]
    }
   ],
   "source": [
    "X_train, X_test, y_train, y_test = train_test_split(boston.data, boston.target, random_state=0)\n",
    "print(\"X_train.shape: {}\".format(X_train.shape), \"X_test.shape:{}\".format(X_test.shape))\n",
    "lr = KNeighborsRegressor().fit(X_train, y_train)\n",
    "print(\"훈련 세트 점수: {:.2f}\".format(lr.score(X_train, y_train)))\n",
    "print(\"테스트 세트 점수: {:.2f}\\n\".format(lr.score(X_test, y_test)))\n",
    "#위에서 LinearRegression을 쓴 것과는 달리 KNeighborsRegressor()를 사용해본 결과를 출력한다.\n",
    "#(k값을 설정하지 않았을 경우엔 기본값은 5이다.)\n",
    "\n",
    "X_train, X_test, y_train, y_test = train_test_split(boston.data, boston.target, random_state=0)\n",
    "print(\"X_train.shape: {}\".format(X_train.shape), \"X_test.shape:{}\".format(X_test.shape))\n",
    "lr = KNeighborsRegressor(n_neighbors=3).fit(X_train, y_train)\n",
    "print(\"훈련 세트 점수: {:.2f}\".format(lr.score(X_train, y_train)))\n",
    "print(\"테스트 세트 점수: {:.2f}\".format(lr.score(X_test, y_test)))\n",
    "#KNeighborsRegressor()를 사용하고 k값은 3으로 설정했을 때의 결과를 출력한다.\n",
    "\n",
    "#조사해본 결과 Regression모델이 결과가 더 잘 나오는 것을 확인할 수 있었다."
   ]
  },
  {
   "cell_type": "code",
   "execution_count": 66,
   "metadata": {
    "scrolled": false
   },
   "outputs": [
    {
     "name": "stdout",
     "output_type": "stream",
     "text": [
      "X,shape: (506, 104)\n",
      "X_train.shape: (379, 104) X_test.shape:(127, 104)\n",
      "훈련 세트 점수: 0.95\n",
      "테스트 세트 점수: 0.61\n",
      "\n",
      "훈련 세트 점수: 0.90\n",
      "테스트 세트 점수: 0.61\n",
      "\n"
     ]
    }
   ],
   "source": [
    "X, y = mglearn.datasets.load_extended_boston()\n",
    "#boston의 크기를 확장시킨다.\n",
    "\n",
    "print(\"X,shape: {}\".format(X.shape))\n",
    "\n",
    "X_train, X_test, y_train, y_test = train_test_split(X, y, random_state=0)\n",
    "print(\"X_train.shape: {}\".format(X_train.shape), \"X_test.shape:{}\".format(X_test.shape))\n",
    "lr = LinearRegression().fit(X_train, y_train)\n",
    "\n",
    "print(\"훈련 세트 점수: {:.2f}\".format(lr.score(X_train, y_train)))\n",
    "print(\"테스트 세트 점수: {:.2f}\\n\".format(lr.score(X_test, y_test)))\n",
    "\n",
    "knn = KNeighborsRegressor(n_neighbors=3).fit(X_train, y_train)\n",
    "print(\"훈련 세트 점수: {:.2f}\".format(knn.score(X_train, y_train)))\n",
    "print(\"테스트 세트 점수: {:.2f}\\n\".format(knn.score(X_test, y_test)))\n",
    "\n",
    "#출력되는 값들을 확인해보니 과대적합이라 복잡도의 제어가 필요함을 생각해볼 수 있다."
   ]
  },
  {
   "cell_type": "code",
   "execution_count": 67,
   "metadata": {
    "scrolled": true
   },
   "outputs": [
    {
     "name": "stdout",
     "output_type": "stream",
     "text": [
      "X_train.shape: (455, 104) X_test.shape:(51, 104)\n",
      "훈련 세트 점수: 0.94\n",
      "테스트 세트 점수: 0.47\n",
      "\n",
      "훈련 세트 점수: 0.90\n",
      "테스트 세트 점수: 0.59\n",
      "\n"
     ]
    }
   ],
   "source": [
    "X_train, X_test, y_train, y_test = train_test_split(X, y, test_size=0.1, random_state=0)\n",
    "print(\"X_train.shape: {}\".format(X_train.shape), \"X_test.shape:{}\".format(X_test.shape))\n",
    "lr = LinearRegression().fit(X_train, y_train)\n",
    "#test_size를 0.1로 바꿔 0.25보다 감소시킨 경우 테스트 세트 점수도 감소했다.\n",
    "\n",
    "print(\"훈련 세트 점수: {:.2f}\".format(lr.score(X_train, y_train)))\n",
    "print(\"테스트 세트 점수: {:.2f}\\n\".format(lr.score(X_test, y_test)))\n",
    "\n",
    "knn = KNeighborsRegressor(n_neighbors=3).fit(X_train, y_train)\n",
    "print(\"훈련 세트 점수: {:.2f}\".format(knn.score(X_train, y_train)))\n",
    "print(\"테스트 세트 점수: {:.2f}\\n\".format(knn.score(X_test, y_test)))"
   ]
  },
  {
   "cell_type": "code",
   "execution_count": 68,
   "metadata": {},
   "outputs": [
    {
     "name": "stdout",
     "output_type": "stream",
     "text": [
      "X_train.shape: (480, 104) X_test.shape:(26, 104)\n",
      "훈련 세트 점수: 0.94\n",
      "테스트 세트 점수: 0.73\n",
      "\n",
      "훈련 세트 점수: 0.90\n",
      "테스트 세트 점수: 0.43\n",
      "\n"
     ]
    }
   ],
   "source": [
    "X_train, X_test, y_train, y_test = train_test_split(X, y, test_size=0.05, random_state=0)\n",
    "print(\"X_train.shape: {}\".format(X_train.shape), \"X_test.shape:{}\".format(X_test.shape))\n",
    "lr = LinearRegression().fit(X_train, y_train)\n",
    "#test_size를 0.05로 바꿔 0.25보다 감소시킨 경우엔\n",
    "#LinearRegression()를 쓸 때 나오는 테스트 세트 점수는 증가했고\n",
    "#KNeighborsRegressor()를 쓸 때 나오는 테스트 세트 점수는 감소했다.\n",
    "\n",
    "print(\"훈련 세트 점수: {:.2f}\".format(lr.score(X_train, y_train)))\n",
    "print(\"테스트 세트 점수: {:.2f}\\n\".format(lr.score(X_test, y_test)))\n",
    "\n",
    "knn = KNeighborsRegressor(n_neighbors=3).fit(X_train, y_train)\n",
    "print(\"훈련 세트 점수: {:.2f}\".format(knn.score(X_train, y_train)))\n",
    "print(\"테스트 세트 점수: {:.2f}\\n\".format(knn.score(X_test, y_test)))"
   ]
  },
  {
   "cell_type": "code",
   "execution_count": 69,
   "metadata": {},
   "outputs": [
    {
     "name": "stdout",
     "output_type": "stream",
     "text": [
      "X_train.shape: (303, 104) X_test.shape:(203, 104)\n",
      "훈련 세트 점수: 0.96\n",
      "테스트 세트 점수: 0.76\n",
      "\n",
      "훈련 세트 점수: 0.88\n",
      "테스트 세트 점수: 0.70\n",
      "\n"
     ]
    }
   ],
   "source": [
    "X_train, X_test, y_train, y_test = train_test_split(X, y, test_size=0.4, random_state=0)\n",
    "print(\"X_train.shape: {}\".format(X_train.shape), \"X_test.shape:{}\".format(X_test.shape))\n",
    "lr = LinearRegression().fit(X_train, y_train)\n",
    "#test_size를 0.4로 바꿔 0.25보다 증가시킨 경우 테스트 세트 점수도 증가했다.\n",
    "\n",
    "print(\"훈련 세트 점수: {:.2f}\".format(lr.score(X_train, y_train)))\n",
    "print(\"테스트 세트 점수: {:.2f}\\n\".format(lr.score(X_test, y_test)))\n",
    "\n",
    "knn = KNeighborsRegressor(n_neighbors=3).fit(X_train, y_train)\n",
    "print(\"훈련 세트 점수: {:.2f}\".format(knn.score(X_train, y_train)))\n",
    "print(\"테스트 세트 점수: {:.2f}\\n\".format(knn.score(X_test, y_test)))"
   ]
  },
  {
   "cell_type": "code",
   "execution_count": 70,
   "metadata": {
    "scrolled": true
   },
   "outputs": [
    {
     "name": "stdout",
     "output_type": "stream",
     "text": [
      "X_train.shape: (278, 104) X_test.shape:(228, 104)\n",
      "훈련 세트 점수: 0.96\n",
      "테스트 세트 점수: 0.70\n",
      "\n",
      "훈련 세트 점수: 0.87\n",
      "테스트 세트 점수: 0.68\n",
      "\n"
     ]
    }
   ],
   "source": [
    "X_train, X_test, y_train, y_test = train_test_split(X, y, test_size=0.45, random_state=0)\n",
    "print(\"X_train.shape: {}\".format(X_train.shape), \"X_test.shape:{}\".format(X_test.shape))\n",
    "lr = LinearRegression().fit(X_train, y_train)\n",
    "#다만 test_size를 0.45로 바꿔 0.25보다 증가시킨 경우엔 테스트 세트 점수가 오히려 0.4를 쓸 때 보다 감소했다.\n",
    "\n",
    "print(\"훈련 세트 점수: {:.2f}\".format(lr.score(X_train, y_train)))\n",
    "print(\"테스트 세트 점수: {:.2f}\\n\".format(lr.score(X_test, y_test)))\n",
    "\n",
    "knn = KNeighborsRegressor(n_neighbors=3).fit(X_train, y_train)\n",
    "print(\"훈련 세트 점수: {:.2f}\".format(knn.score(X_train, y_train)))\n",
    "print(\"테스트 세트 점수: {:.2f}\\n\".format(knn.score(X_test, y_test)))"
   ]
  }
 ],
 "metadata": {
  "kernelspec": {
   "display_name": "Python 3",
   "language": "python",
   "name": "python3"
  },
  "language_info": {
   "codemirror_mode": {
    "name": "ipython",
    "version": 3
   },
   "file_extension": ".py",
   "mimetype": "text/x-python",
   "name": "python",
   "nbconvert_exporter": "python",
   "pygments_lexer": "ipython3",
   "version": "3.8.5"
  }
 },
 "nbformat": 4,
 "nbformat_minor": 4
}
