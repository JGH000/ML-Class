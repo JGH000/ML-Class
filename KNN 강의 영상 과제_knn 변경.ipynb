{
 "cells": [
  {
   "cell_type": "code",
   "execution_count": 2,
   "metadata": {},
   "outputs": [],
   "source": [
    "import numpy as np\n",
    "import matplotlib.pyplot as plt\n",
    "import pandas as pd\n",
    "import mglearn\n",
    "\n",
    "#필요한 라이브러리들을 임포트한다."
   ]
  },
  {
   "cell_type": "code",
   "execution_count": 3,
   "metadata": {},
   "outputs": [],
   "source": [
    "from sklearn.datasets import load_iris\n",
    "\n",
    "#scikit-learn의 dataset 모듈에 포함되어 있는 load_iris 함수를 임포트한다."
   ]
  },
  {
   "cell_type": "code",
   "execution_count": 4,
   "metadata": {},
   "outputs": [],
   "source": [
    "iris_dataset=load_iris()\n",
    "\n",
    "#함수 load_iris를 통해서 iris_dataset에 데이터를 넣어준다."
   ]
  },
  {
   "cell_type": "code",
   "execution_count": 5,
   "metadata": {},
   "outputs": [],
   "source": [
    "from sklearn.model_selection import train_test_split\n",
    "\n",
    "#train_test_split함수를 임포트한다.\n",
    "\n",
    "X_train, X_test, y_train, y_test = train_test_split(\n",
    "iris_dataset['data'], iris_dataset['target'], random_state=0)\n",
    "\n",
    "#데이터를 훈련(train)과 테스트(test)로 분할한다.\n",
    "#train_test_split 함수를 이용하면 기본적으로 train과 test를 각각 75대 25로 나눠준다.\n",
    "#그리고 75대 25의 비율은 우리가 바꿀 수 있다.\n",
    "\n",
    "#또한, 여기서 random_state값은 무작위에 같은 seed를 주어 실험 때 마다 다른 값이 되는 것을 방지하는 역할을 한다.\n",
    "#주로 사용하는 값은 0,21,42인데 어떤 것을 써도 꾸준히만 쓴다면 큰 상관은 없다."
   ]
  },
  {
   "cell_type": "code",
   "execution_count": 6,
   "metadata": {},
   "outputs": [
    {
     "name": "stdout",
     "output_type": "stream",
     "text": [
      "X_train 크기: (112, 4)\n",
      "y_train 크기: (112,)\n"
     ]
    }
   ],
   "source": [
    "print(\"X_train 크기: {}\".format(X_train.shape))\n",
    "print(\"y_train 크기: {}\".format(y_train.shape))\n",
    "\n",
    "#X_train은 피쳐들 4개 값을, y_train은 타겟값(0,1,2 중에 하나)을 가진다.\n",
    "# X:데이터[행렬] -> 대문자\n",
    "# y:레이블/타겟[벡터] -> 소문자"
   ]
  },
  {
   "cell_type": "code",
   "execution_count": 7,
   "metadata": {
    "scrolled": false
   },
   "outputs": [
    {
     "name": "stdout",
     "output_type": "stream",
     "text": [
      "X_test 크기: (38, 4)\n",
      "y_test 크기: (38,)\n"
     ]
    }
   ],
   "source": [
    "print(\"X_test 크기: {}\".format(X_test.shape))\n",
    "print(\"y_test 크기: {}\".format(y_test.shape))\n",
    "\n",
    "# 150 - 112 = 38이 test의 사이즈"
   ]
  },
  {
   "cell_type": "code",
   "execution_count": 8,
   "metadata": {
    "scrolled": true
   },
   "outputs": [
    {
     "data": {
      "text/plain": [
       "KNeighborsClassifier(n_neighbors=2)"
      ]
     },
     "execution_count": 8,
     "metadata": {},
     "output_type": "execute_result"
    }
   ],
   "source": [
    "from sklearn.neighbors import KNeighborsClassifier\n",
    "#KNN 분류기를 임포트한다.\n",
    "\n",
    "knn = KNeighborsClassifier(n_neighbors=2)\n",
    "#이웃의 개수를 2로 설정\n",
    "\n",
    "knn.fit(X_train, y_train)\n",
    "#훈련데이터와 레이블로 모델 훈련"
   ]
  },
  {
   "cell_type": "code",
   "execution_count": 9,
   "metadata": {},
   "outputs": [
    {
     "name": "stdout",
     "output_type": "stream",
     "text": [
      "X_new.shape (1, 4)\n"
     ]
    }
   ],
   "source": [
    "X_new = np.array([[5, 2.9, 1, 0.2]])\n",
    "#4개의 특징을 가진 벡터 X_new를 생성\n",
    "\n",
    "print(\"X_new.shape\", X_new.shape)"
   ]
  },
  {
   "cell_type": "code",
   "execution_count": 10,
   "metadata": {},
   "outputs": [
    {
     "name": "stdout",
     "output_type": "stream",
     "text": [
      "예측: [0]\n",
      "예측한 타깃의 이름: ['setosa']\n"
     ]
    }
   ],
   "source": [
    "prediction = knn.predict(X_new)\n",
    "\n",
    "print(\"예측:\", prediction)\n",
    "# 0, 1, 2 세가지 클래스 중에 0이 출력되었다.\n",
    "\n",
    "print(\"예측한 타깃의 이름:\", iris_dataset['target_names'][prediction])\n",
    "# prediction의 타깃 이름을 출력시켰더니 setosa가 나왔다."
   ]
  },
  {
   "cell_type": "code",
   "execution_count": 11,
   "metadata": {},
   "outputs": [
    {
     "name": "stdout",
     "output_type": "stream",
     "text": [
      "테스트 세트에 대한 예측값:\n",
      " [2 1 0 2 0 2 0 1 1 1 2 1 1 1 1 0 1 1 0 0 2 1 0 0 2 0 0 1 1 0 2 1 0 2 2 1 0\n",
      " 2]\n"
     ]
    }
   ],
   "source": [
    "y_pred = knn.predict(X_test)\n",
    "print(\"테스트 세트에 대한 예측값:\\n\", y_pred)"
   ]
  },
  {
   "cell_type": "code",
   "execution_count": 12,
   "metadata": {},
   "outputs": [
    {
     "name": "stdout",
     "output_type": "stream",
     "text": [
      "테스트 세트의 정확도: 0.97\n"
     ]
    }
   ],
   "source": [
    "print(\"테스트 세트의 정확도: {:.2f}\".format(np.mean(y_pred == y_test)))\n",
    "# y_pred와 y_test를 비교해서 둘이 같으면 같은 얘들 끼리 쭈욱 더하고 개수를 나누면서\n",
    "# mean값을 구한다."
   ]
  },
  {
   "cell_type": "code",
   "execution_count": 13,
   "metadata": {},
   "outputs": [
    {
     "name": "stdout",
     "output_type": "stream",
     "text": [
      "테스트 세트의 정확도: 0.97\n"
     ]
    }
   ],
   "source": [
    "print(\"테스트 세트의 정확도: {:.2f}\".format(knn.score(X_test, y_test)))\n",
    "# knn.score을 이용해서 mean값을 구한다."
   ]
  },
  {
   "cell_type": "code",
   "execution_count": 15,
   "metadata": {},
   "outputs": [
    {
     "name": "stdout",
     "output_type": "stream",
     "text": [
      "예측: [0]\n",
      "예측한 타깃의 이름: ['setosa']\n",
      "테스트 세트에 대한 예측값:\n",
      " [2 1 0 2 0 2 0 1 1 1 2 1 1 1 1 0 1 1 0 0 2 1 0 0 2 0 0 1 1 0 2 1 0 2 2 1 0\n",
      " 2]\n",
      "테스트 세트의 정확도: 0.97\n",
      "테스트 세트의 정확도: 0.97\n"
     ]
    }
   ],
   "source": [
    "knn = KNeighborsClassifier(n_neighbors=5)\n",
    "#이웃의 개수를 5로 설정하고 위의 과정을 다시 해본다.\n",
    "\n",
    "knn.fit(X_train, y_train)\n",
    "#훈련데이터와 레이블로 모델 훈련\n",
    "\n",
    "print(\"예측:\", prediction)\n",
    "# 0, 1, 2 세가지 클래스 중에 0이 출력되었다.\n",
    "\n",
    "print(\"예측한 타깃의 이름:\", iris_dataset['target_names'][prediction])\n",
    "# prediction의 타깃 이름을 출력시켰더니 setosa가 나왔다.\n",
    "\n",
    "y_pred = knn.predict(X_test)\n",
    "print(\"테스트 세트에 대한 예측값:\\n\", y_pred)\n",
    "\n",
    "print(\"테스트 세트의 정확도: {:.2f}\".format(np.mean(y_pred == y_test)))\n",
    "# y_pred와 y_test를 비교해서 둘이 같으면 같은 얘들 끼리 쭈욱 더하고 개수를 나누면서\n",
    "# mean값을 구한다.\n",
    "\n",
    "print(\"테스트 세트의 정확도: {:.2f}\".format(knn.score(X_test, y_test)))\n",
    "# knn.score을 이용해서 mean값을 구한다."
   ]
  }
 ],
 "metadata": {
  "kernelspec": {
   "display_name": "Python 3",
   "language": "python",
   "name": "python3"
  },
  "language_info": {
   "codemirror_mode": {
    "name": "ipython",
    "version": 3
   },
   "file_extension": ".py",
   "mimetype": "text/x-python",
   "name": "python",
   "nbconvert_exporter": "python",
   "pygments_lexer": "ipython3",
   "version": "3.8.5"
  }
 },
 "nbformat": 4,
 "nbformat_minor": 4
}
